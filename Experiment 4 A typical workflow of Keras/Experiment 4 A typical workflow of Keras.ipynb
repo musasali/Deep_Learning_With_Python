{
 "cells": [
  {
   "cell_type": "markdown",
   "metadata": {},
   "source": [
    "# Experiment 4 A typical workflow of Keras"
   ]
  },
  {
   "cell_type": "markdown",
   "metadata": {},
   "source": [
    "# Task"
   ]
  },
  {
   "cell_type": "markdown",
   "metadata": {},
   "source": [
    "<ol> \n",
    "    <li> Define your training data: input tensors and target tensors.\n",
    "    <li> Define a network of layers (or model ) that maps your inputs to your targets.\n",
    "    <li> Configure the learning process by choosing a loss function, an optimizer, and some metrics to monitor.\n",
    "    <li> Iterate on your training data by calling the fit() method of your model.\n",
    "</ol>"
   ]
  },
  {
   "cell_type": "code",
   "execution_count": 3,
   "metadata": {},
   "outputs": [
    {
     "name": "stderr",
     "output_type": "stream",
     "text": [
      "Using TensorFlow backend.\n"
     ]
    }
   ],
   "source": [
    "%matplotlib inline\n",
    "# import libraries\n",
    "import numpy as np\n",
    "import matplotlib.pyplot as plt\n",
    "from keras.models import Sequential\n",
    "from keras.layers import Dense\n",
    "np.random.seed(10)"
   ]
  },
  {
   "cell_type": "markdown",
   "metadata": {},
   "source": [
    "# 1 Prepare data"
   ]
  },
  {
   "cell_type": "markdown",
   "metadata": {},
   "source": [
    "## 1.1 Define the input and target tensors"
   ]
  },
  {
   "cell_type": "code",
   "execution_count": 4,
   "metadata": {},
   "outputs": [],
   "source": [
    "# Generate the data\n",
    "X = np.linspace(-1, 1, 200)\n",
    "np.random.shuffle(X)\n",
    "# generate the target Y with noise\n",
    "def f(x,w,b):\n",
    "    return w * x + b\n",
    "Y = f(X, 0.6, 2 + np.random.normal(0, 0.06, (200, )))\n",
    "#Y = 0.6 * X + 2 + np.random.normal(0, 0.06, (200, ))"
   ]
  },
  {
   "cell_type": "code",
   "execution_count": 5,
   "metadata": {},
   "outputs": [
    {
     "data": {
      "text/plain": [
       "<matplotlib.collections.PathCollection at 0x1ad2e8085c0>"
      ]
     },
     "execution_count": 5,
     "metadata": {},
     "output_type": "execute_result"
    },
    {
     "data": {
      "image/png": "[encoded data removed]",
      "text/plain": [
       "<Figure size 432x288 with 1 Axes>"
      ]
     },
     "metadata": {
      "needs_background": "light"
     },
     "output_type": "display_data"
    }
   ],
   "source": [
    "# plot data\n",
    "plt.scatter(X,Y, s=10)"
   ]
  },
  {
   "cell_type": "markdown",
   "metadata": {},
   "source": [
    "\n",
    "## 1.2 Split your data into training and testing data"
   ]
  },
  {
   "cell_type": "code",
   "execution_count": 6,
   "metadata": {},
   "outputs": [],
   "source": [
    "X_train, Y_train = X[:160], Y[:160] # training dataset\n",
    "X_test, Y_test = X[160:], Y[160:] # test dataset"
   ]
  },
  {
   "cell_type": "code",
   "execution_count": 7,
   "metadata": {},
   "outputs": [
    {
     "data": {
      "text/plain": [
       "<matplotlib.legend.Legend at 0x1ad2e8b59e8>"
      ]
     },
     "execution_count": 7,
     "metadata": {},
     "output_type": "execute_result"
    },
    {
     "data": {
      "image/png": "[encoded data removed]",
      "text/plain": [
       "<Figure size 432x288 with 1 Axes>"
      ]
     },
     "metadata": {
      "needs_background": "light"
     },
     "output_type": "display_data"
    }
   ],
   "source": [
    "plt.scatter(X_train,Y_train, s=10, label=\"trining set\")\n",
    "plt.scatter(X_test, Y_test, s=10, c=\"r\", label=\"testing set\")\n",
    "plt.legend(loc='best')"
   ]
  },
  {
   "cell_type": "markdown",
   "metadata": {},
   "source": [
    "# 2 Create Model\n",
    "Define a network of layers (or model ) that maps your inputs to your targets."
   ]
  },
  {
   "cell_type": "code",
   "execution_count": 8,
   "metadata": {},
   "outputs": [
    {
     "name": "stdout",
     "output_type": "stream",
     "text": [
      "WARNING:tensorflow:From C:\\Users\\MS\\AppData\\Roaming\\Python\\Python36\\site-packages\\tensorflow\\python\\framework\\op_def_library.py:263: colocate_with (from tensorflow.python.framework.ops) is deprecated and will be removed in a future version.\n",
      "Instructions for updating:\n",
      "Colocations handled automatically by placer.\n"
     ]
    }
   ],
   "source": [
    "# Construct model\n",
    "model = Sequential()\n",
    "model.add(Dense(input_dim=1, units=1))"
   ]
  },
  {
   "cell_type": "markdown",
   "metadata": {},
   "source": [
    "# 3 Compile Model\n",
    "Configure the learning process by choosing a loss function, an optimizer, and some metrics to monitor."
   ]
  },
  {
   "cell_type": "code",
   "execution_count": 9,
   "metadata": {},
   "outputs": [],
   "source": [
    "# select loss function and optimizer\n",
    "model.compile(loss=\"mean_squared_error\", optimizer=\"sgd\", metrics=['acc'])"
   ]
  },
  {
   "cell_type": "markdown",
   "metadata": {},
   "source": [
    "# 4 Training\n",
    "Iterate on your training data by calling the fit() method of your model."
   ]
  },
  {
   "cell_type": "code",
   "execution_count": 10,
   "metadata": {},
   "outputs": [
    {
     "name": "stdout",
     "output_type": "stream",
     "text": [
      "Training -----------\n",
      "WARNING:tensorflow:From C:\\Users\\MS\\AppData\\Roaming\\Python\\Python36\\site-packages\\tensorflow\\python\\ops\\math_ops.py:3066: to_int32 (from tensorflow.python.ops.math_ops) is deprecated and will be removed in a future version.\n",
      "Instructions for updating:\n",
      "Use tf.cast instead.\n",
      "Epoch 1/100\n",
      "160/160 [==============================] - 1s 5ms/step - loss: 3.7456 - acc: 0.0000e+00\n",
      "Epoch 2/100\n",
      "160/160 [==============================] - 0s 173us/step - loss: 3.0612 - acc: 0.0000e+00\n",
      "Epoch 3/100\n",
      "160/160 [==============================] - 0s 125us/step - loss: 2.5032 - acc: 0.0000e+00\n",
      "Epoch 4/100\n",
      "160/160 [==============================] - 0s 84us/step - loss: 2.0460 - acc: 0.0000e+00\n",
      "Epoch 5/100\n",
      "160/160 [==============================] - 0s 77us/step - loss: 1.6731 - acc: 0.0000e+00\n",
      "Epoch 6/100\n",
      "160/160 [==============================] - 0s 43us/step - loss: 1.3684 - acc: 0.0000e+00\n",
      "Epoch 7/100\n",
      "160/160 [==============================] - 0s 71us/step - loss: 1.1193 - acc: 0.0000e+00\n",
      "Epoch 8/100\n",
      "160/160 [==============================] - 0s 81us/step - loss: 0.9158 - acc: 0.0000e+00\n",
      "Epoch 9/100\n",
      "160/160 [==============================] - 0s 62us/step - loss: 0.7493 - acc: 0.0000e+00\n",
      "Epoch 10/100\n",
      "160/160 [==============================] - 0s 39us/step - loss: 0.6134 - acc: 0.0000e+00\n",
      "Epoch 11/100\n",
      "160/160 [==============================] - 0s 56us/step - loss: 0.5023 - acc: 0.0000e+00\n",
      "Epoch 12/100\n",
      "160/160 [==============================] - 0s 105us/step - loss: 0.4114 - acc: 0.0000e+00\n",
      "Epoch 13/100\n",
      "160/160 [==============================] - 0s 44us/step - loss: 0.3372 - acc: 0.0000e+00\n",
      "Epoch 14/100\n",
      "160/160 [==============================] - 0s 71us/step - loss: 0.2765 - acc: 0.0000e+00\n",
      "Epoch 15/100\n",
      "160/160 [==============================] - 0s 133us/step - loss: 0.2270 - acc: 0.0000e+00\n",
      "Epoch 16/100\n",
      "160/160 [==============================] - 0s 45us/step - loss: 0.1864 - acc: 0.0000e+00\n",
      "Epoch 17/100\n",
      "160/160 [==============================] - 0s 71us/step - loss: 0.1532 - acc: 0.0000e+00\n",
      "Epoch 18/100\n",
      "160/160 [==============================] - 0s 59us/step - loss: 0.1261 - acc: 0.0000e+00\n",
      "Epoch 19/100\n",
      "160/160 [==============================] - 0s 87us/step - loss: 0.1039 - acc: 0.0000e+00\n",
      "Epoch 20/100\n",
      "160/160 [==============================] - 0s 108us/step - loss: 0.0858 - acc: 0.0000e+00\n",
      "Epoch 21/100\n",
      "160/160 [==============================] - 0s 74us/step - loss: 0.0709 - acc: 0.0000e+00\n",
      "Epoch 22/100\n",
      "160/160 [==============================] - 0s 87us/step - loss: 0.0588 - acc: 0.0000e+00\n",
      "Epoch 23/100\n",
      "160/160 [==============================] - 0s 61us/step - loss: 0.0488 - acc: 0.0000e+00\n",
      "Epoch 24/100\n",
      "160/160 [==============================] - 0s 62us/step - loss: 0.0407 - acc: 0.0000e+00\n",
      "Epoch 25/100\n",
      "160/160 [==============================] - 0s 49us/step - loss: 0.0340 - acc: 0.0000e+00\n",
      "Epoch 26/100\n",
      "160/160 [==============================] - 0s 104us/step - loss: 0.0285 - acc: 0.0000e+00\n",
      "Epoch 27/100\n",
      "160/160 [==============================] - 0s 65us/step - loss: 0.0241 - acc: 0.0000e+00\n",
      "Epoch 28/100\n",
      "160/160 [==============================] - 0s 89us/step - loss: 0.0204 - acc: 0.0000e+00\n",
      "Epoch 29/100\n",
      "160/160 [==============================] - 0s 65us/step - loss: 0.0174 - acc: 0.0000e+00\n",
      "Epoch 30/100\n",
      "160/160 [==============================] - 0s 56us/step - loss: 0.0149 - acc: 0.0000e+00\n",
      "Epoch 31/100\n",
      "160/160 [==============================] - 0s 53us/step - loss: 0.0129 - acc: 0.0000e+00\n",
      "Epoch 32/100\n",
      "160/160 [==============================] - 0s 84us/step - loss: 0.0112 - acc: 0.0000e+00\n",
      "Epoch 33/100\n",
      "160/160 [==============================] - 0s 56us/step - loss: 0.0099 - acc: 0.0000e+00\n",
      "Epoch 34/100\n",
      "160/160 [==============================] - 0s 62us/step - loss: 0.0087 - acc: 0.0000e+00\n",
      "Epoch 35/100\n",
      "160/160 [==============================] - 0s 51us/step - loss: 0.0078 - acc: 0.0000e+00\n",
      "Epoch 36/100\n",
      "160/160 [==============================] - 0s 46us/step - loss: 0.0070 - acc: 0.0000e+00\n",
      "Epoch 37/100\n",
      "160/160 [==============================] - 0s 68us/step - loss: 0.0064 - acc: 0.0000e+00\n",
      "Epoch 38/100\n",
      "160/160 [==============================] - 0s 50us/step - loss: 0.0059 - acc: 0.0000e+00\n",
      "Epoch 39/100\n",
      "160/160 [==============================] - 0s 74us/step - loss: 0.0055 - acc: 0.0000e+00\n",
      "Epoch 40/100\n",
      "160/160 [==============================] - 0s 49us/step - loss: 0.0051 - acc: 0.0000e+00\n",
      "Epoch 41/100\n",
      "160/160 [==============================] - 0s 56us/step - loss: 0.0048 - acc: 0.0000e+00\n",
      "Epoch 42/100\n",
      "160/160 [==============================] - 0s 109us/step - loss: 0.0045 - acc: 0.0000e+00\n",
      "Epoch 43/100\n",
      "160/160 [==============================] - ETA: 0s - loss: 0.0053 - acc: 0.0000e+0 - 0s 59us/step - loss: 0.0043 - acc: 0.0000e+00\n",
      "Epoch 44/100\n",
      "160/160 [==============================] - 0s 93us/step - loss: 0.0042 - acc: 0.0000e+00\n",
      "Epoch 45/100\n",
      "160/160 [==============================] - 0s 85us/step - loss: 0.0040 - acc: 0.0000e+00\n",
      "Epoch 46/100\n",
      "160/160 [==============================] - 0s 49us/step - loss: 0.0039 - acc: 0.0000e+00\n",
      "Epoch 47/100\n",
      "160/160 [==============================] - 0s 77us/step - loss: 0.0038 - acc: 0.0000e+00\n",
      "Epoch 48/100\n",
      "160/160 [==============================] - 0s 81us/step - loss: 0.0037 - acc: 0.0000e+00\n",
      "Epoch 49/100\n",
      "160/160 [==============================] - 0s 53us/step - loss: 0.0036 - acc: 0.0000e+00\n",
      "Epoch 50/100\n",
      "160/160 [==============================] - 0s 50us/step - loss: 0.0035 - acc: 0.0000e+00\n",
      "Epoch 51/100\n",
      "160/160 [==============================] - 0s 81us/step - loss: 0.0035 - acc: 0.0000e+00\n",
      "Epoch 52/100\n",
      "160/160 [==============================] - 0s 99us/step - loss: 0.0034 - acc: 0.0000e+00\n",
      "Epoch 53/100\n",
      "160/160 [==============================] - 0s 40us/step - loss: 0.0034 - acc: 0.0000e+00\n",
      "Epoch 54/100\n",
      "160/160 [==============================] - 0s 63us/step - loss: 0.0034 - acc: 0.0000e+00\n",
      "Epoch 55/100\n",
      "160/160 [==============================] - 0s 44us/step - loss: 0.0033 - acc: 0.0000e+00\n",
      "Epoch 56/100\n",
      "160/160 [==============================] - 0s 108us/step - loss: 0.0033 - acc: 0.0000e+00\n",
      "Epoch 57/100\n",
      "160/160 [==============================] - 0s 43us/step - loss: 0.0033 - acc: 0.0000e+00\n",
      "Epoch 58/100\n",
      "160/160 [==============================] - 0s 56us/step - loss: 0.0033 - acc: 0.0000e+00\n",
      "Epoch 59/100\n",
      "160/160 [==============================] - 0s 40us/step - loss: 0.0032 - acc: 0.0000e+00\n",
      "Epoch 60/100\n",
      "160/160 [==============================] - 0s 49us/step - loss: 0.0032 - acc: 0.0000e+00\n",
      "Epoch 61/100\n",
      "160/160 [==============================] - 0s 65us/step - loss: 0.0032 - acc: 0.0000e+00\n",
      "Epoch 62/100\n",
      "160/160 [==============================] - 0s 53us/step - loss: 0.0032 - acc: 0.0000e+00\n",
      "Epoch 63/100\n",
      "160/160 [==============================] - 0s 37us/step - loss: 0.0032 - acc: 0.0000e+00\n",
      "Epoch 64/100\n",
      "160/160 [==============================] - 0s 53us/step - loss: 0.0032 - acc: 0.0000e+00\n",
      "Epoch 65/100\n",
      "160/160 [==============================] - 0s 74us/step - loss: 0.0032 - acc: 0.0000e+00\n",
      "Epoch 66/100\n",
      "160/160 [==============================] - 0s 40us/step - loss: 0.0032 - acc: 0.0000e+00\n",
      "Epoch 67/100\n",
      "160/160 [==============================] - 0s 68us/step - loss: 0.0031 - acc: 0.0000e+00\n",
      "Epoch 68/100\n",
      "160/160 [==============================] - 0s 59us/step - loss: 0.0031 - acc: 0.0000e+00\n",
      "Epoch 69/100\n",
      "160/160 [==============================] - 0s 43us/step - loss: 0.0031 - acc: 0.0000e+00\n",
      "Epoch 70/100\n",
      "160/160 [==============================] - ETA: 0s - loss: 0.0036 - acc: 0.0000e+0 - 0s 52us/step - loss: 0.0031 - acc: 0.0000e+00\n",
      "Epoch 71/100\n",
      "160/160 [==============================] - 0s 59us/step - loss: 0.0031 - acc: 0.0000e+00\n",
      "Epoch 72/100\n",
      "160/160 [==============================] - 0s 41us/step - loss: 0.0031 - acc: 0.0000e+00\n",
      "Epoch 73/100\n",
      "160/160 [==============================] - 0s 63us/step - loss: 0.0031 - acc: 0.0000e+00\n",
      "Epoch 74/100\n",
      "160/160 [==============================] - 0s 62us/step - loss: 0.0031 - acc: 0.0000e+00\n",
      "Epoch 75/100\n",
      "160/160 [==============================] - 0s 50us/step - loss: 0.0031 - acc: 0.0000e+00\n",
      "Epoch 76/100\n",
      "160/160 [==============================] - 0s 53us/step - loss: 0.0031 - acc: 0.0000e+00\n",
      "Epoch 77/100\n",
      "160/160 [==============================] - 0s 59us/step - loss: 0.0031 - acc: 0.0000e+00\n",
      "Epoch 78/100\n",
      "160/160 [==============================] - 0s 59us/step - loss: 0.0031 - acc: 0.0000e+00\n",
      "Epoch 79/100\n",
      "160/160 [==============================] - 0s 69us/step - loss: 0.0031 - acc: 0.0000e+00\n",
      "Epoch 80/100\n",
      "160/160 [==============================] - 0s 71us/step - loss: 0.0031 - acc: 0.0000e+00\n",
      "Epoch 81/100\n",
      "160/160 [==============================] - 0s 53us/step - loss: 0.0031 - acc: 0.0000e+00\n",
      "Epoch 82/100\n",
      "160/160 [==============================] - 0s 53us/step - loss: 0.0031 - acc: 0.0000e+00\n",
      "Epoch 83/100\n",
      "160/160 [==============================] - 0s 53us/step - loss: 0.0031 - acc: 0.0000e+00\n",
      "Epoch 84/100\n",
      "160/160 [==============================] - ETA: 0s - loss: 0.0025 - acc: 0.0000e+0 - 0s 46us/step - loss: 0.0031 - acc: 0.0000e+00\n",
      "Epoch 85/100\n",
      "160/160 [==============================] - 0s 65us/step - loss: 0.0031 - acc: 0.0000e+00\n",
      "Epoch 86/100\n",
      "160/160 [==============================] - 0s 43us/step - loss: 0.0031 - acc: 0.0000e+00\n",
      "Epoch 87/100\n",
      "160/160 [==============================] - 0s 53us/step - loss: 0.0031 - acc: 0.0000e+00\n",
      "Epoch 88/100\n",
      "160/160 [==============================] - 0s 55us/step - loss: 0.0031 - acc: 0.0000e+00\n",
      "Epoch 89/100\n",
      "160/160 [==============================] - 0s 53us/step - loss: 0.0031 - acc: 0.0000e+00\n",
      "Epoch 90/100\n",
      "160/160 [==============================] - 0s 62us/step - loss: 0.0031 - acc: 0.0000e+00\n",
      "Epoch 91/100\n",
      "160/160 [==============================] - 0s 62us/step - loss: 0.0031 - acc: 0.0000e+00\n",
      "Epoch 92/100\n",
      "160/160 [==============================] - 0s 53us/step - loss: 0.0031 - acc: 0.0000e+00\n",
      "Epoch 93/100\n",
      "160/160 [==============================] - 0s 65us/step - loss: 0.0031 - acc: 0.0000e+00\n",
      "Epoch 94/100\n",
      "160/160 [==============================] - 0s 56us/step - loss: 0.0031 - acc: 0.0000e+00\n",
      "Epoch 95/100\n",
      "160/160 [==============================] - 0s 47us/step - loss: 0.0031 - acc: 0.0000e+00\n",
      "Epoch 96/100\n",
      "160/160 [==============================] - 0s 59us/step - loss: 0.0031 - acc: 0.0000e+00\n",
      "Epoch 97/100\n",
      "160/160 [==============================] - 0s 56us/step - loss: 0.0031 - acc: 0.0000e+00\n",
      "Epoch 98/100\n",
      "160/160 [==============================] - 0s 40us/step - loss: 0.0031 - acc: 0.0000e+00\n",
      "Epoch 99/100\n",
      "160/160 [==============================] - 0s 53us/step - loss: 0.0031 - acc: 0.0000e+00\n",
      "Epoch 100/100\n",
      "160/160 [==============================] - 0s 41us/step - loss: 0.0030 - acc: 0.0000e+00\n"
     ]
    }
   ],
   "source": [
    "# Training\n",
    "print('Training -----------')\n",
    "hist = model.fit(X_train, Y_train, batch_size=32, epochs=100)"
   ]
  },
  {
   "cell_type": "code",
   "execution_count": 11,
   "metadata": {},
   "outputs": [
    {
     "data": {
      "text/plain": [
       "dict_keys(['loss', 'acc'])"
      ]
     },
     "execution_count": 11,
     "metadata": {},
     "output_type": "execute_result"
    }
   ],
   "source": [
    "hist.history.keys()"
   ]
  },
  {
   "cell_type": "markdown",
   "metadata": {},
   "source": [
    "Show parameters W and b"
   ]
  },
  {
   "cell_type": "code",
   "execution_count": 12,
   "metadata": {},
   "outputs": [
    {
     "name": "stdout",
     "output_type": "stream",
     "text": [
      "Weights= [[0.61413586]] \n",
      "biases= [2.0042949]\n"
     ]
    }
   ],
   "source": [
    "W, b = model.layers[0].get_weights()\n",
    "print('Weights=', W, '\\nbiases=', b)"
   ]
  },
  {
   "cell_type": "markdown",
   "metadata": {},
   "source": [
    "# 5 Testing"
   ]
  },
  {
   "cell_type": "code",
   "execution_count": 13,
   "metadata": {},
   "outputs": [
    {
     "name": "stdout",
     "output_type": "stream",
     "text": [
      "\n",
      "Testing ------------\n",
      "40/40 [==============================] - 0s 856us/step\n",
      "test cost: [0.003675151616334915, 0.0]\n"
     ]
    }
   ],
   "source": [
    "# testing\n",
    "print('\\nTesting ------------')\n",
    "cost = model.evaluate(X_test, Y_test, batch_size=40, verbose=1)\n",
    "print('test cost:', cost)"
   ]
  },
  {
   "cell_type": "markdown",
   "metadata": {},
   "source": [
    "# 6 Plot the result"
   ]
  },
  {
   "cell_type": "code",
   "execution_count": 14,
   "metadata": {},
   "outputs": [
    {
     "data": {
      "text/plain": [
       "<matplotlib.legend.Legend at 0x1ad2ec30b70>"
      ]
     },
     "execution_count": 14,
     "metadata": {},
     "output_type": "execute_result"
    },
    {
     "data": {
      "image/png": "[encoded data removed]",
      "text/plain": [
       "<Figure size 432x288 with 1 Axes>"
      ]
     },
     "metadata": {
      "needs_background": "light"
     },
     "output_type": "display_data"
    }
   ],
   "source": [
    "# plot the result\n",
    "Y_pred = model.predict(X_test)\n",
    "x = [-1,1]\n",
    "y = f(x,W,b).transpose()\n",
    "plt.plot(x, y, '-', label='curve fitting')\n",
    "plt.scatter(X_test, Y_test, s=10, color='r', label='testing data')\n",
    "plt.scatter(X_test, Y_pred, s=10, color='g', label='predicted data')\n",
    "plt.legend(loc='best')"
   ]
  },
  {
   "cell_type": "markdown",
   "metadata": {},
   "source": [
    "# 7 Analysis and Conclusion"
   ]
  },
  {
   "cell_type": "markdown",
   "metadata": {},
   "source": [
    "we can deduce from the above plot that our model is satisfactury"
   ]
  }
 ],
 "metadata": {
  "kernelspec": {
   "display_name": "Python 3 (ipykernel)",
   "language": "python",
   "name": "python3"
  },
  "language_info": {
   "codemirror_mode": {
    "name": "ipython",
    "version": 3
   },
   "file_extension": ".py",
   "mimetype": "text/x-python",
   "name": "python",
   "nbconvert_exporter": "python",
   "pygments_lexer": "ipython3",
   "version": "3.9.7"
  }
 },
 "nbformat": 4,
 "nbformat_minor": 2
}
