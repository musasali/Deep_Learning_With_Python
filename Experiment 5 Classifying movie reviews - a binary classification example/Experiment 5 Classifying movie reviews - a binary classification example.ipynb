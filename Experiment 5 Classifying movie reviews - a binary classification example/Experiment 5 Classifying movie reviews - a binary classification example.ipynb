{
 "cells": [
  {
   "cell_type": "markdown",
   "metadata": {},
   "source": [
    "# Experiment 5 Classifying movie reviews - a binary classification example"
   ]
  },
  {
   "cell_type": "markdown",
   "metadata": {},
   "source": [
    "## Task"
   ]
  },
  {
   "cell_type": "markdown",
   "metadata": {},
   "source": [
    "Understand the IMDB database and construct a binary classification network.\n",
    "<ol> \n",
    "    <li> Try using one or three hidden layers, and see how doing so affects validation and test accuracy.\n",
    "    <li> Try using layers with more hidden units or fewer hidden units: 32 units, 64 units, and so on.\n",
    "    <li> Try using the mse loss function instead of binary_crossentropy.\n",
    "    <li> Try using the tanh activation (an activation that was popular in the early days of neural networks) instead of relu.\n",
    "</ol>"
   ]
  },
  {
   "cell_type": "markdown",
   "metadata": {},
   "source": [
    "# 1 The IMDB dataset"
   ]
  },
  {
   "cell_type": "code",
   "execution_count": 2,
   "metadata": {},
   "outputs": [
    {
     "name": "stderr",
     "output_type": "stream",
     "text": [
      "Using TensorFlow backend.\n"
     ]
    }
   ],
   "source": [
    "from keras.datasets import imdb\n",
    "(train_data, train_labels), (test_data, test_labels) = imdb.load_data(num_words=10000)"
   ]
  },
  {
   "cell_type": "markdown",
   "metadata": {},
   "source": [
    "# 2 Encoding the sequences into a binary matrix"
   ]
  },
  {
   "cell_type": "code",
   "execution_count": 3,
   "metadata": {},
   "outputs": [],
   "source": [
    "import numpy as np\n",
    "def vectorize_sequences(sequences, dimension=10000):\n",
    "    results = np.zeros((len(sequences), dimension))\n",
    "    for i, sequence in enumerate(sequences):\n",
    "        results[i, sequence] = 1.\n",
    "    return results\n",
    "x_train = vectorize_sequences(train_data)\n",
    "x_test = vectorize_sequences(test_data)"
   ]
  },
  {
   "cell_type": "code",
   "execution_count": 4,
   "metadata": {},
   "outputs": [
    {
     "data": {
      "text/plain": [
       "array([1, 0, 0, ..., 0, 1, 0], dtype=int64)"
      ]
     },
     "execution_count": 4,
     "metadata": {},
     "output_type": "execute_result"
    }
   ],
   "source": [
    "train_labels"
   ]
  },
  {
   "cell_type": "code",
   "execution_count": 5,
   "metadata": {},
   "outputs": [
    {
     "data": {
      "text/plain": [
       "(25000,)"
      ]
     },
     "execution_count": 5,
     "metadata": {},
     "output_type": "execute_result"
    }
   ],
   "source": [
    "train_data.shape"
   ]
  },
  {
   "cell_type": "code",
   "execution_count": 6,
   "metadata": {},
   "outputs": [
    {
     "data": {
      "text/plain": [
       "(25000, 10000)"
      ]
     },
     "execution_count": 6,
     "metadata": {},
     "output_type": "execute_result"
    }
   ],
   "source": [
    "x_train.shape"
   ]
  },
  {
   "cell_type": "code",
   "execution_count": 7,
   "metadata": {},
   "outputs": [],
   "source": [
    "y_train = np.asarray(train_labels).astype('float32')\n",
    "y_test = np.asarray(test_labels).astype('float32')"
   ]
  },
  {
   "cell_type": "code",
   "execution_count": 8,
   "metadata": {},
   "outputs": [
    {
     "data": {
      "text/plain": [
       "(25000,)"
      ]
     },
     "execution_count": 8,
     "metadata": {},
     "output_type": "execute_result"
    }
   ],
   "source": [
    "y_train.shape"
   ]
  },
  {
   "cell_type": "code",
   "execution_count": 9,
   "metadata": {},
   "outputs": [
    {
     "data": {
      "text/plain": [
       "array([1., 0., 0., ..., 0., 1., 0.], dtype=float32)"
      ]
     },
     "execution_count": 9,
     "metadata": {},
     "output_type": "execute_result"
    }
   ],
   "source": [
    "y_train"
   ]
  },
  {
   "cell_type": "markdown",
   "metadata": {},
   "source": [
    "# 3 Building a binary classification network"
   ]
  },
  {
   "cell_type": "code",
   "execution_count": 12,
   "metadata": {},
   "outputs": [],
   "source": [
    "from keras import models\n",
    "from keras import layers\n",
    "model = models.Sequential()\n",
    "model.add(layers.Dense(16, activation='relu', input_shape=(10000,)))\n",
    "model.add(layers.Dense(16, activation='relu'))\n",
    "model.add(layers.Dense(1, activation='sigmoid'))"
   ]
  },
  {
   "cell_type": "code",
   "execution_count": 13,
   "metadata": {},
   "outputs": [],
   "source": [
    "model.compile(loss='binary_crossentropy', optimizer='rmsprop', metrics=['acc'])"
   ]
  },
  {
   "cell_type": "markdown",
   "metadata": {},
   "source": [
    "# 4 Training"
   ]
  },
  {
   "cell_type": "code",
   "execution_count": 14,
   "metadata": {},
   "outputs": [],
   "source": [
    "x_val = x_train[:10000]\n",
    "partial_x_train = x_train[10000:]\n",
    "y_val = y_train[:10000]\n",
    "partial_y_train = y_train[10000:]"
   ]
  },
  {
   "cell_type": "code",
   "execution_count": 15,
   "metadata": {},
   "outputs": [
    {
     "data": {
      "text/plain": [
       "array([0., 0., 0., ..., 0., 1., 0.], dtype=float32)"
      ]
     },
     "execution_count": 15,
     "metadata": {},
     "output_type": "execute_result"
    }
   ],
   "source": [
    "partial_y_train"
   ]
  },
  {
   "cell_type": "code",
   "execution_count": 16,
   "metadata": {},
   "outputs": [
    {
     "name": "stdout",
     "output_type": "stream",
     "text": [
      "WARNING:tensorflow:From C:\\Users\\MS\\AppData\\Roaming\\Python\\Python36\\site-packages\\tensorflow\\python\\ops\\math_ops.py:3066: to_int32 (from tensorflow.python.ops.math_ops) is deprecated and will be removed in a future version.\n",
      "Instructions for updating:\n",
      "Use tf.cast instead.\n",
      "Train on 15000 samples, validate on 10000 samples\n",
      "Epoch 1/15\n",
      "15000/15000 [==============================] - 41s 3ms/step - loss: 0.5390 - acc: 0.7745 - val_loss: 0.4000 - val_acc: 0.8687\n",
      "Epoch 2/15\n",
      "15000/15000 [==============================] - 7s 450us/step - loss: 0.3210 - acc: 0.8990 - val_loss: 0.3288 - val_acc: 0.8711\n",
      "Epoch 3/15\n",
      "15000/15000 [==============================] - 3s 233us/step - loss: 0.2358 - acc: 0.9241 - val_loss: 0.2872 - val_acc: 0.8866\n",
      "Epoch 4/15\n",
      "15000/15000 [==============================] - 3s 194us/step - loss: 0.1853 - acc: 0.9391 - val_loss: 0.2745 - val_acc: 0.8905\n",
      "Epoch 5/15\n",
      "15000/15000 [==============================] - 4s 258us/step - loss: 0.1533 - acc: 0.9509 - val_loss: 0.2996 - val_acc: 0.8809\n",
      "Epoch 6/15\n",
      "15000/15000 [==============================] - 3s 171us/step - loss: 0.1236 - acc: 0.9625 - val_loss: 0.2877 - val_acc: 0.8866\n",
      "Epoch 7/15\n",
      "15000/15000 [==============================] - 3s 200us/step - loss: 0.1078 - acc: 0.9655 - val_loss: 0.3032 - val_acc: 0.8838\n",
      "Epoch 8/15\n",
      "15000/15000 [==============================] - 5s 354us/step - loss: 0.0863 - acc: 0.9748 - val_loss: 0.3194 - val_acc: 0.8819\n",
      "Epoch 9/15\n",
      "15000/15000 [==============================] - 3s 212us/step - loss: 0.0696 - acc: 0.9821 - val_loss: 0.3425 - val_acc: 0.8802\n",
      "Epoch 10/15\n",
      "15000/15000 [==============================] - 3s 190us/step - loss: 0.0597 - acc: 0.9851 - val_loss: 0.3761 - val_acc: 0.8780\n",
      "Epoch 11/15\n",
      "15000/15000 [==============================] - 3s 204us/step - loss: 0.0462 - acc: 0.9903 - val_loss: 0.3942 - val_acc: 0.8730\n",
      "Epoch 12/15\n",
      "15000/15000 [==============================] - 3s 206us/step - loss: 0.0371 - acc: 0.9929 - val_loss: 0.4335 - val_acc: 0.8767\n",
      "Epoch 13/15\n",
      "15000/15000 [==============================] - 5s 313us/step - loss: 0.0293 - acc: 0.9949 - val_loss: 0.4522 - val_acc: 0.8755\n",
      "Epoch 14/15\n",
      "15000/15000 [==============================] - 3s 225us/step - loss: 0.0262 - acc: 0.9946 - val_loss: 0.4839 - val_acc: 0.8727\n",
      "Epoch 15/15\n",
      "15000/15000 [==============================] - 3s 193us/step - loss: 0.0179 - acc: 0.9970 - val_loss: 0.5389 - val_acc: 0.8615\n"
     ]
    }
   ],
   "source": [
    "history = model.fit(partial_x_train, partial_y_train, epochs=15, batch_size=512, validation_data=(x_val, y_val))"
   ]
  },
  {
   "cell_type": "markdown",
   "metadata": {},
   "source": [
    "# 5 Plot accuracy"
   ]
  },
  {
   "cell_type": "code",
   "execution_count": 17,
   "metadata": {},
   "outputs": [
    {
     "data": {
      "text/plain": [
       "dict_keys(['val_loss', 'val_acc', 'loss', 'acc'])"
      ]
     },
     "execution_count": 17,
     "metadata": {},
     "output_type": "execute_result"
    }
   ],
   "source": [
    "history_dict = history.history\n",
    "history_dict.keys()"
   ]
  },
  {
   "cell_type": "code",
   "execution_count": 18,
   "metadata": {},
   "outputs": [
    {
     "data": {
      "text/plain": [
       "[0.7744666667620341,\n",
       " 0.898999999777476,\n",
       " 0.9241333331108094,\n",
       " 0.939066666952769,\n",
       " 0.9509333335558573,\n",
       " 0.9624666664759318,\n",
       " 0.9655333333015442,\n",
       " 0.974799999777476,\n",
       " 0.982133333492279,\n",
       " 0.9850666664759318,\n",
       " 0.9902666664759318,\n",
       " 0.9928666669209798,\n",
       " 0.9948666666666667,\n",
       " 0.9946,\n",
       " 0.9969999998092651]"
      ]
     },
     "execution_count": 18,
     "metadata": {},
     "output_type": "execute_result"
    }
   ],
   "source": [
    "history_dict['acc']"
   ]
  },
  {
   "cell_type": "code",
   "execution_count": 19,
   "metadata": {},
   "outputs": [
    {
     "data": {
      "text/plain": [
       "[0.8686999996185303,\n",
       " 0.8711000001907349,\n",
       " 0.8866000001907348,\n",
       " 0.8905000001907348,\n",
       " 0.8809000000953674,\n",
       " 0.8866000000953674,\n",
       " 0.8838,\n",
       " 0.8819,\n",
       " 0.8802000001907349,\n",
       " 0.8780000000953674,\n",
       " 0.8729999999046326,\n",
       " 0.8766999997138977,\n",
       " 0.8755000001907348,\n",
       " 0.8726999999046325,\n",
       " 0.8614999992370606]"
      ]
     },
     "execution_count": 19,
     "metadata": {},
     "output_type": "execute_result"
    }
   ],
   "source": [
    "history_dict['val_acc']"
   ]
  },
  {
   "cell_type": "code",
   "execution_count": 21,
   "metadata": {},
   "outputs": [
    {
     "data": {
      "text/plain": [
       "<matplotlib.legend.Legend at 0x246145e49b0>"
      ]
     },
     "execution_count": 21,
     "metadata": {},
     "output_type": "execute_result"
    },
    {
     "data": {
      "image/png": "[encoded data removed]",
      "text/plain": [
       "<Figure size 432x288 with 1 Axes>"
      ]
     },
     "metadata": {
      "needs_background": "light"
     },
     "output_type": "display_data"
    }
   ],
   "source": [
    "import matplotlib.pyplot as plt\n",
    "history_dict = history.history\n",
    "loss_values = history_dict['loss']\n",
    "val_loss_values = history_dict['val_loss']\n",
    "epoch = np.arange(1,len(loss_values)+1)\n",
    "plt.plot(epoch, loss_values, '.', label='training loss')\n",
    "plt.plot(epoch, val_loss_values, '-', label='validation loss')\n",
    "plt.legend(loc='best')"
   ]
  },
  {
   "cell_type": "code",
   "execution_count": 22,
   "metadata": {},
   "outputs": [
    {
     "data": {
      "text/plain": [
       "<matplotlib.legend.Legend at 0x2461465cdd8>"
      ]
     },
     "execution_count": 22,
     "metadata": {},
     "output_type": "execute_result"
    },
    {
     "data": {
      "image/png": "[encoded data removed]",
      "text/plain": [
       "<Figure size 432x288 with 1 Axes>"
      ]
     },
     "metadata": {
      "needs_background": "light"
     },
     "output_type": "display_data"
    }
   ],
   "source": [
    "acc_values = history_dict['acc']\n",
    "val_acc_values = history_dict['val_acc']\n",
    "plt.plot(epoch, acc_values, '.', label='training acc')\n",
    "plt.plot(epoch, val_acc_values, '-', label='validation acc')\n",
    "plt.legend(loc='best')"
   ]
  },
  {
   "cell_type": "code",
   "execution_count": 23,
   "metadata": {},
   "outputs": [
    {
     "name": "stdout",
     "output_type": "stream",
     "text": [
      "25000/25000 [==============================] - 109s 4ms/step\n"
     ]
    }
   ],
   "source": [
    "results = model.evaluate(x_test, y_test)"
   ]
  },
  {
   "cell_type": "code",
   "execution_count": 24,
   "metadata": {},
   "outputs": [
    {
     "data": {
      "text/plain": [
       "[0.6022022567296028, 0.84468]"
      ]
     },
     "execution_count": 24,
     "metadata": {},
     "output_type": "execute_result"
    }
   ],
   "source": [
    "results"
   ]
  },
  {
   "cell_type": "markdown",
   "metadata": {},
   "source": [
    "# 6 Generate predictions on new data"
   ]
  },
  {
   "cell_type": "code",
   "execution_count": 25,
   "metadata": {},
   "outputs": [],
   "source": [
    "pre = model.predict(x_test)"
   ]
  },
  {
   "cell_type": "code",
   "execution_count": 26,
   "metadata": {},
   "outputs": [
    {
     "data": {
      "text/plain": [
       "array([[0.0181945 ],\n",
       "       [0.99999994],\n",
       "       [0.76731354],\n",
       "       ...,\n",
       "       [0.00963637],\n",
       "       [0.01453593],\n",
       "       [0.48772493]], dtype=float32)"
      ]
     },
     "execution_count": 26,
     "metadata": {},
     "output_type": "execute_result"
    }
   ],
   "source": [
    "pre"
   ]
  },
  {
   "cell_type": "code",
   "execution_count": 27,
   "metadata": {},
   "outputs": [],
   "source": [
    "persentage = pre*100"
   ]
  },
  {
   "cell_type": "code",
   "execution_count": 28,
   "metadata": {},
   "outputs": [
    {
     "data": {
      "text/plain": [
       "array([[ 1],\n",
       "       [99],\n",
       "       [76],\n",
       "       ...,\n",
       "       [ 0],\n",
       "       [ 1],\n",
       "       [48]])"
      ]
     },
     "execution_count": 28,
     "metadata": {},
     "output_type": "execute_result"
    }
   ],
   "source": [
    "persentage.astype(int)"
   ]
  },
  {
   "cell_type": "code",
   "execution_count": 29,
   "metadata": {},
   "outputs": [
    {
     "data": {
      "text/plain": [
       "<BarContainer object of 10 artists>"
      ]
     },
     "execution_count": 29,
     "metadata": {},
     "output_type": "execute_result"
    },
    {
     "data": {
      "image/png": "[encoded data removed]",
      "text/plain": [
       "<Figure size 432x288 with 1 Axes>"
      ]
     },
     "metadata": {
      "needs_background": "light"
     },
     "output_type": "display_data"
    }
   ],
   "source": [
    "hist, bin_edges = np.histogram(pre)\n",
    "plt.bar(bin_edges[1:], hist, width=.01)"
   ]
  },
  {
   "cell_type": "code",
   "execution_count": 30,
   "metadata": {},
   "outputs": [
    {
     "data": {
      "text/plain": [
       "(array([12069.,   686.,   503.,   419.,   388.,   338.,   390.,   481.,\n",
       "          804.,  8922.]),\n",
       " array([0. , 0.1, 0.2, 0.3, 0.4, 0.5, 0.6, 0.7, 0.8, 0.9, 1. ],\n",
       "       dtype=float32),\n",
       " <a list of 10 Patch objects>)"
      ]
     },
     "execution_count": 30,
     "metadata": {},
     "output_type": "execute_result"
    },
    {
     "data": {
      "image/png": "[encoded data removed]",
      "text/plain": [
       "<Figure size 432x288 with 1 Axes>"
      ]
     },
     "metadata": {
      "needs_background": "light"
     },
     "output_type": "display_data"
    }
   ],
   "source": [
    "plt.hist(pre)"
   ]
  },
  {
   "cell_type": "markdown",
   "metadata": {},
   "source": [
    "# 7 Analysis and Conclusion"
   ]
  },
  {
   "cell_type": "markdown",
   "metadata": {},
   "source": [
    "From the plot accuracy, we can see that the model work well with training data while the performance in validation data is getting worst. The global minimum of validation loss is at 4th epochs, this shoould be the best epochs of this model. We can conclude that this model suffer an overfitting problem. Therefore, the solution algorithm for overfitting is advisable such as dropout.   "
   ]
  }
 ],
 "metadata": {
  "kernelspec": {
   "display_name": "Python 3 (ipykernel)",
   "language": "python",
   "name": "python3"
  },
  "language_info": {
   "codemirror_mode": {
    "name": "ipython",
    "version": 3
   },
   "file_extension": ".py",
   "mimetype": "text/x-python",
   "name": "python",
   "nbconvert_exporter": "python",
   "pygments_lexer": "ipython3",
   "version": "3.9.7"
  }
 },
 "nbformat": 4,
 "nbformat_minor": 2
}
