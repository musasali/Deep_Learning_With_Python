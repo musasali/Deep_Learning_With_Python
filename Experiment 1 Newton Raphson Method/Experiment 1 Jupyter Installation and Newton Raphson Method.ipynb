{
 "cells": [
  {
   "cell_type": "markdown",
   "metadata": {},
   "source": [
    "# Experiment 1 Newton Raphson Method"
   ]
  },
  {
   "cell_type": "markdown",
   "metadata": {},
   "source": [
    "## 1. Task "
   ]
  },
  {
   "cell_type": "markdown",
   "metadata": {},
   "source": [
    "What's the Newton-Raphson Method?<br>\n",
    "Can you find the root of the Equation $(x-3)^3 + 2x^2 = 0$ in this way?<br>\n",
    "What happens if you give a different initial guess value (e.g 4.0 or 300000.0) and end condition (e.g 1e-2 or 1e-6) respectively?<br>\n",
    "Write the Python code and record the solution."
   ]
  },
  {
   "cell_type": "markdown",
   "metadata": {},
   "source": [
    "## 2 Method\n",
    "\n",
    "In numerical analysis, Newton's method (also known as the Newton–Raphson method), named after Isaac Newton and Joseph Raphson, is a method for finding successively better approximations to the roots (or zeroes) of a real-valued function. It is one example of a root-finding algorithm.\n",
    "\n",
    "\\begin{equation}\n",
    "x:f(x)=0\n",
    "\\end{equation}\n",
    "\n",
    "The Newton–Raphson method in one variable is implemented as follows:\n",
    "\n",
    "The method starts with a function f defined over the real numbers x, the function's derivative f′, and an initial guess x0 for a root of the function f. If the function satisfies the assumptions made in the derivation of the formula and the initial guess is close, then a better approximation x1 is\n",
    "\n",
    "$$x_{1}=x_{0}-{\\frac {f(x_{0})}{f'(x_{0})}}$$\n",
    "\n",
    "Geometrically, (x1, 0) is the intersection of the x-axis and the tangent of the graph of f at (x0, f (x0)).\n",
    "The process is repeated as\n",
    "\n",
    "$$x_{n+1}=x_{n}-{\\frac {f(x_{n})}{f'(x_{n})}}$$\n",
    "\n",
    "until a sufficiently accurate value is reached.\n",
    "\n",
    "![NewtonIteration_Ani.gif](NewtonIteration_Ani.gif)"
   ]
  },
  {
   "cell_type": "markdown",
   "metadata": {},
   "source": [
    " ## 3 Flow diagram"
   ]
  },
  {
   "cell_type": "markdown",
   "metadata": {},
   "source": [
    "![NRM_FlowDiagram](NRM_FlowDiagram.png)"
   ]
  },
  {
   "cell_type": "markdown",
   "metadata": {},
   "source": [
    "## 4 Code"
   ]
  },
  {
   "cell_type": "code",
   "execution_count": 7,
   "metadata": {},
   "outputs": [],
   "source": [
    "def f(x):\n",
    "    \"\"\" Get the value of f(x). \"\"\"\n",
    "    return (x-3)**3 + 2*x**2"
   ]
  },
  {
   "cell_type": "code",
   "execution_count": 8,
   "metadata": {},
   "outputs": [],
   "source": [
    "def df(x):\n",
    "    \"\"\" Get the value of f'(x). \"\"\"\n",
    "    return 3*(x-3)**2 + 4*x"
   ]
  },
  {
   "cell_type": "code",
   "execution_count": 9,
   "metadata": {},
   "outputs": [],
   "source": [
    "def newton_raphson(x, e):\n",
    "    '''\n",
    "    Newton-Raphson method to search a approximate root.\n",
    "    \n",
    "    x: guessing value\n",
    "    e: precision\n",
    "    '''\n",
    "    n=1\n",
    "    xnext = x - f(x)/df(x)\n",
    "    while abs(xnext-x) > e:\n",
    "        print('loops :',n,\"\\tx=\",x,\"\\txnext=\",xnext)\n",
    "        x, xnext = xnext , xnext - f(xnext)/df(xnext)\n",
    "        n += 1\n",
    "        \n",
    "    print(\"Approximate root is: \", xnext)"
   ]
  },
  {
   "cell_type": "markdown",
   "metadata": {},
   "source": [
    "## 5 Testing"
   ]
  },
  {
   "cell_type": "code",
   "execution_count": 10,
   "metadata": {},
   "outputs": [
    {
     "name": "stdout",
     "output_type": "stream",
     "text": [
      "loops : 1 \tx= 4.0 \txnext= 2.263157894736842\n",
      "loops : 2 \tx= 2.263157894736842 \txnext= 1.3415865909587246\n",
      "loops : 3 \tx= 1.3415865909587246 \txnext= 1.412193811601921\n",
      "Approximate root is:  1.4132898244692125\n"
     ]
    }
   ],
   "source": [
    "newton_raphson(4.0, 1e-2) # Suppose the root is 4.0"
   ]
  },
  {
   "cell_type": "code",
   "execution_count": 12,
   "metadata": {},
   "outputs": [
    {
     "name": "stdout",
     "output_type": "stream",
     "text": [
      "loops : 1 \tx= 4.0 \txnext= 2.263157894736842\n",
      "loops : 2 \tx= 2.263157894736842 \txnext= 1.3415865909587246\n",
      "loops : 3 \tx= 1.3415865909587246 \txnext= 1.412193811601921\n",
      "loops : 4 \tx= 1.412193811601921 \txnext= 1.4132898244692125\n",
      "loops : 5 \tx= 1.4132898244692125 \txnext= 1.4132900757335707\n",
      "Approximate root is:  1.4132900757335838\n"
     ]
    }
   ],
   "source": [
    "newton_raphson(4.0, 1e-9) # Suppose the root is 4.0"
   ]
  },
  {
   "cell_type": "code",
   "execution_count": 13,
   "metadata": {},
   "outputs": [
    {
     "name": "stdout",
     "output_type": "stream",
     "text": [
      "loops : 1 \tx= 300000.0 \txnext= 200000.77776987644\n",
      "loops : 2 \tx= 200000.77776987644 \txnext= 133334.62961251003\n",
      "loops : 3 \tx= 133334.62961251003 \txnext= 88890.53083500636\n",
      "loops : 4 \tx= 88890.53083500636 \txnext= 59261.1316411147\n",
      "loops : 5 \tx= 59261.1316411147 \txnext= 39508.198831852926\n",
      "loops : 6 \tx= 39508.198831852926 \txnext= 26339.57693901033\n",
      "loops : 7 \tx= 26339.57693901033 \txnext= 17560.495647112206\n",
      "loops : 8 \tx= 17560.495647112206 \txnext= 11707.77474084008\n",
      "loops : 9 \tx= 11707.77474084008 \txnext= 7805.960735810488\n",
      "loops : 10 \tx= 7805.960735810488 \txnext= 5204.751297841096\n",
      "loops : 11 \tx= 5204.751297841096 \txnext= 3470.6115205795186\n",
      "loops : 12 \tx= 3470.6115205795186 \txnext= 2314.5181077611514\n",
      "loops : 13 \tx= 2314.5181077611514 \txnext= 1543.7888237940147\n",
      "loops : 14 \tx= 1543.7888237940147 \txnext= 1029.9687877419133\n",
      "loops : 15 \tx= 1029.9687877419133 \txnext= 687.4213263109318\n",
      "loops : 16 \tx= 687.4213263109318 \txnext= 459.0551945381345\n",
      "loops : 17 \tx= 459.0551945381345 \txnext= 306.80936733361375\n",
      "loops : 18 \tx= 306.80936733361375 \txnext= 205.3095331331046\n",
      "loops : 19 \tx= 205.3095331331046 \txnext= 137.63903710919368\n",
      "loops : 20 \tx= 137.63903710919368 \txnext= 92.51942779814499\n",
      "loops : 21 \tx= 92.51942779814499 \txnext= 62.43069076951923\n",
      "loops : 22 \tx= 62.43069076951923 \txnext= 42.35785824976019\n",
      "loops : 23 \tx= 42.35785824976019 \txnext= 28.95505894478596\n",
      "loops : 24 \tx= 28.95505894478596 \txnext= 19.987598745221444\n",
      "loops : 25 \tx= 19.987598745221444 \txnext= 13.958890915558847\n",
      "loops : 26 \tx= 13.958890915558847 \txnext= 9.85958326740927\n",
      "loops : 27 \tx= 9.85958326740927 \txnext= 6.995835510245804\n",
      "loops : 28 \tx= 6.995835510245804 \txnext= 4.865150237528756\n",
      "loops : 29 \tx= 4.865150237528756 \txnext= 3.064705102525454\n",
      "loops : 30 \tx= 3.064705102525454 \txnext= 1.5338988995421463\n",
      "loops : 31 \tx= 1.5338988995421463 \txnext= 1.4103783256478226\n",
      "Approximate root is:  1.4132883021601992\n"
     ]
    }
   ],
   "source": [
    "newton_raphson(300000.0, 1e-2) #Suppose the root is 300000.0"
   ]
  },
  {
   "cell_type": "code",
   "execution_count": 14,
   "metadata": {},
   "outputs": [
    {
     "name": "stdout",
     "output_type": "stream",
     "text": [
      "loops : 1 \tx= 300000.0 \txnext= 200000.77776987644\n",
      "loops : 2 \tx= 200000.77776987644 \txnext= 133334.62961251003\n",
      "loops : 3 \tx= 133334.62961251003 \txnext= 88890.53083500636\n",
      "loops : 4 \tx= 88890.53083500636 \txnext= 59261.1316411147\n",
      "loops : 5 \tx= 59261.1316411147 \txnext= 39508.198831852926\n",
      "loops : 6 \tx= 39508.198831852926 \txnext= 26339.57693901033\n",
      "loops : 7 \tx= 26339.57693901033 \txnext= 17560.495647112206\n",
      "loops : 8 \tx= 17560.495647112206 \txnext= 11707.77474084008\n",
      "loops : 9 \tx= 11707.77474084008 \txnext= 7805.960735810488\n",
      "loops : 10 \tx= 7805.960735810488 \txnext= 5204.751297841096\n",
      "loops : 11 \tx= 5204.751297841096 \txnext= 3470.6115205795186\n",
      "loops : 12 \tx= 3470.6115205795186 \txnext= 2314.5181077611514\n",
      "loops : 13 \tx= 2314.5181077611514 \txnext= 1543.7888237940147\n",
      "loops : 14 \tx= 1543.7888237940147 \txnext= 1029.9687877419133\n",
      "loops : 15 \tx= 1029.9687877419133 \txnext= 687.4213263109318\n",
      "loops : 16 \tx= 687.4213263109318 \txnext= 459.0551945381345\n",
      "loops : 17 \tx= 459.0551945381345 \txnext= 306.80936733361375\n",
      "loops : 18 \tx= 306.80936733361375 \txnext= 205.3095331331046\n",
      "loops : 19 \tx= 205.3095331331046 \txnext= 137.63903710919368\n",
      "loops : 20 \tx= 137.63903710919368 \txnext= 92.51942779814499\n",
      "loops : 21 \tx= 92.51942779814499 \txnext= 62.43069076951923\n",
      "loops : 22 \tx= 62.43069076951923 \txnext= 42.35785824976019\n",
      "loops : 23 \tx= 42.35785824976019 \txnext= 28.95505894478596\n",
      "loops : 24 \tx= 28.95505894478596 \txnext= 19.987598745221444\n",
      "loops : 25 \tx= 19.987598745221444 \txnext= 13.958890915558847\n",
      "loops : 26 \tx= 13.958890915558847 \txnext= 9.85958326740927\n",
      "loops : 27 \tx= 9.85958326740927 \txnext= 6.995835510245804\n",
      "loops : 28 \tx= 6.995835510245804 \txnext= 4.865150237528756\n",
      "loops : 29 \tx= 4.865150237528756 \txnext= 3.064705102525454\n",
      "loops : 30 \tx= 3.064705102525454 \txnext= 1.5338988995421463\n",
      "loops : 31 \tx= 1.5338988995421463 \txnext= 1.4103783256478226\n",
      "loops : 32 \tx= 1.4103783256478226 \txnext= 1.4132883021601992\n",
      "loops : 33 \tx= 1.4132883021601992 \txnext= 1.4132900757329265\n",
      "Approximate root is:  1.4132900757335838\n"
     ]
    }
   ],
   "source": [
    "newton_raphson(300000.0, 1e-9) #Suppose the root is 300000.0"
   ]
  },
  {
   "cell_type": "markdown",
   "metadata": {},
   "source": [
    "## 6. Discussion"
   ]
  },
  {
   "cell_type": "markdown",
   "metadata": {},
   "source": [
    "Base on our test results, if the error precision is the same, it doesn't matter whether the initial approximation value is far or closer to the actual root, the Newton Maphson Method provide the same result. In the other hand, it takes too much processing time when the initial approximation is too far compare to when it is closer to the actual root. The small the precision value is, the best approximation root we get.  "
   ]
  }
 ],
 "metadata": {
  "kernelspec": {
   "display_name": "Python 3 (ipykernel)",
   "language": "python",
   "name": "python3"
  },
  "language_info": {
   "codemirror_mode": {
    "name": "ipython",
    "version": 3
   },
   "file_extension": ".py",
   "mimetype": "text/x-python",
   "name": "python",
   "nbconvert_exporter": "python",
   "pygments_lexer": "ipython3",
   "version": "3.9.7"
  }
 },
 "nbformat": 4,
 "nbformat_minor": 2
}
